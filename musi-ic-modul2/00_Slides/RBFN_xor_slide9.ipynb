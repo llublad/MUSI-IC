{
 "cells": [
  {
   "cell_type": "markdown",
   "id": "d822fecf-0456-4406-ae52-ddea7848099f",
   "metadata": {},
   "source": [
    "# Radial Basis Function Networks (RBFN)"
   ]
  },
  {
   "cell_type": "markdown",
   "id": "64940fe0-909f-4c62-a7e9-d0391a9afc60",
   "metadata": {},
   "source": [
    "## XOR example (slide 9)"
   ]
  },
  {
   "cell_type": "code",
   "execution_count": 1,
   "id": "de2a67dd-1256-4263-8fc1-42ae230b24ce",
   "metadata": {},
   "outputs": [],
   "source": [
    "import numpy as np\n",
    "from numpy import exp\n",
    "from numpy import bitwise_xor as xor"
   ]
  },
  {
   "cell_type": "code",
   "execution_count": 2,
   "id": "638d774d-5d3d-4804-8c63-e6429b0588e5",
   "metadata": {},
   "outputs": [],
   "source": [
    "import matplotlib.pyplot as plt"
   ]
  },
  {
   "cell_type": "code",
   "execution_count": 3,
   "id": "65a781dc-2f04-4061-8afd-d793de895544",
   "metadata": {},
   "outputs": [
    {
     "name": "stdout",
     "output_type": "stream",
     "text": [
      "[0 1 1 0]\n"
     ]
    }
   ],
   "source": [
    "X = np.array([[0, 0], [0, 1], [1, 0], [1, 1]])  # [A, B]\n",
    "result = np.array([xor(a, b) for a, b in X])  # xor(A,B)\n",
    "\n",
    "print(result)"
   ]
  },
  {
   "cell_type": "code",
   "execution_count": 4,
   "id": "598cc96d-525b-4673-b5d4-5eede82127ac",
   "metadata": {},
   "outputs": [],
   "source": [
    "# Select 2 centers\n",
    "mu1 = [0, 1]\n",
    "mu2 = [1, 0]\n",
    "\n",
    "# Select weights\n",
    "beta1 = 0.9\n",
    "beta2 = 0.9\n",
    "\n",
    "# Bias\n",
    "bias = -1"
   ]
  },
  {
   "cell_type": "code",
   "execution_count": 5,
   "id": "edbeec92-4090-4f5a-a9a3-3eff93c94316",
   "metadata": {},
   "outputs": [
    {
     "name": "stdout",
     "output_type": "stream",
     "text": [
      "X=[0 0], y=[0.36787944117144233, 0.36787944117144233]\n",
      "X=[0 1], y=[1.0, 0.2431167344342142]\n",
      "X=[1 0], y=[0.2431167344342142, 1.0]\n",
      "X=[1 1], y=[0.36787944117144233, 0.36787944117144233]\n"
     ]
    }
   ],
   "source": [
    "y = []\n",
    "for k in range(len(X)):\n",
    "    y.append([exp(-np.linalg.norm(X[k,:] - mu1)),\n",
    "              exp(-np.linalg.norm(X[k,:] - mu2))])\n",
    "    print(f\"X={X[k]}, y={y[k]}\")"
   ]
  },
  {
   "cell_type": "code",
   "execution_count": 6,
   "id": "a58550db-0ef0-44f8-837f-dd6481b7f50d",
   "metadata": {},
   "outputs": [],
   "source": [
    "# plot the classification map\n",
    "N = 50\n",
    "xx = np.linspace(-0.1, 1.1, N)\n",
    "yy = np.linspace(-0.1, 1.1, N)\n",
    "YY, XX = np.meshgrid(yy, xx)\n",
    "xy = np.vstack([XX.ravel(), YY.ravel()]).T\n",
    "ZZ = []\n",
    "for k in range(N * N):\n",
    "    x = xy[k,:]\n",
    "    \n",
    "    y = [exp(-beta1 * np.linalg.norm(x - mu1)), exp(-beta2 * np.linalg.norm(x - mu2))]\n",
    "    phi = np.sum(y) + bias\n",
    "    \n",
    "    ZZ.append(1 if phi >=0 else 0)\n",
    "\n",
    "ZZ = np.array(ZZ).reshape(XX.shape)"
   ]
  },
  {
   "cell_type": "code",
   "execution_count": 7,
   "id": "8493b641-6962-4640-952d-7b18d290d2d7",
   "metadata": {},
   "outputs": [
    {
     "data": {
      "image/png": "[encoded data removed]",
      "text/plain": [
       "<Figure size 432x288 with 3 Axes>"
      ]
     },
     "metadata": {
      "needs_background": "light"
     },
     "output_type": "display_data"
    }
   ],
   "source": [
    "plt.figure()\n",
    "\n",
    "plt.imshow(ZZ, origin='lower', \n",
    "           extent=(-0.1, 1.1, -0.1, 1.1), cmap='RdYlGn')\n",
    "plt.colorbar()\n",
    "\n",
    "plt.scatter(x=X[:,0], y=X[:,1], c=result, cmap='binary_r')\n",
    "plt.colorbar()\n",
    "\n",
    "plt.show()"
   ]
  },
  {
   "cell_type": "markdown",
   "id": "0ee48d35-f271-4df0-9a73-4679fe5613a3",
   "metadata": {},
   "source": [
    "End"
   ]
  }
 ],
 "metadata": {
  "kernelspec": {
   "display_name": "musi-ic2",
   "language": "python",
   "name": "musi-ic2"
  },
  "language_info": {
   "codemirror_mode": {
    "name": "ipython",
    "version": 3
   },
   "file_extension": ".py",
   "mimetype": "text/x-python",
   "name": "python",
   "nbconvert_exporter": "python",
   "pygments_lexer": "ipython3",
   "version": "3.7.11"
  }
 },
 "nbformat": 4,
 "nbformat_minor": 5
}
