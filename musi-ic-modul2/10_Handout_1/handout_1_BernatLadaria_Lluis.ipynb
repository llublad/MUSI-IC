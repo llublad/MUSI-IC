{
 "cells": [
  {
   "cell_type": "markdown",
   "id": "7ffe05c9-2c10-476b-b4f2-446afef2c7c5",
   "metadata": {
    "tags": []
   },
   "source": [
    "# Handout\\#1"
   ]
  },
  {
   "cell_type": "markdown",
   "id": "496b0e42-8294-4202-a3b5-ffb7352f88ad",
   "metadata": {
    "tags": []
   },
   "source": [
    "## Load data"
   ]
  },
  {
   "cell_type": "code",
   "execution_count": 1,
   "id": "52ee7e29-7b9b-4549-8b66-b01b4e16e797",
   "metadata": {},
   "outputs": [],
   "source": [
    "import numpy as np"
   ]
  },
  {
   "cell_type": "code",
   "execution_count": 2,
   "id": "1e1371b4-f87d-4a93-997f-6110fed73789",
   "metadata": {},
   "outputs": [],
   "source": [
    "group = '02' # Bernat Ladaria, Lluís\n",
    "ds = 1 # assuming problem 1"
   ]
  },
  {
   "cell_type": "code",
   "execution_count": 3,
   "id": "48243217-0597-4a4f-926a-61c8d3fa6a95",
   "metadata": {},
   "outputs": [],
   "source": [
    "data_train = np.loadtxt('ds' + group + str(ds) + 'tr.txt')"
   ]
  },
  {
   "cell_type": "code",
   "execution_count": 4,
   "id": "f0ad788f-5124-4606-967b-a4061f0a2deb",
   "metadata": {},
   "outputs": [],
   "source": [
    "X_train_raw = data_train[:, 0:2]\n",
    "y_train = data_train[:, 2]"
   ]
  },
  {
   "cell_type": "markdown",
   "id": "660f01f3-f7b3-4276-a932-a710faf054ff",
   "metadata": {},
   "source": [
    "Check classes"
   ]
  },
  {
   "cell_type": "code",
   "execution_count": 5,
   "id": "c1b59330-18e7-4b14-a671-d05835e7dcce",
   "metadata": {},
   "outputs": [
    {
     "data": {
      "text/plain": [
       "array([0., 1.])"
      ]
     },
     "execution_count": 5,
     "metadata": {},
     "output_type": "execute_result"
    }
   ],
   "source": [
    "np.unique(y_train)"
   ]
  },
  {
   "cell_type": "code",
   "execution_count": 6,
   "id": "13a5bdc1-6656-4886-8038-b66f4a2265d7",
   "metadata": {},
   "outputs": [],
   "source": [
    "data_test = np.loadtxt('ds' + group + str(ds) + 'te.txt')"
   ]
  },
  {
   "cell_type": "code",
   "execution_count": 7,
   "id": "7ff9b1f6-9e27-49d7-bdef-d27685adf87f",
   "metadata": {},
   "outputs": [],
   "source": [
    "X_test_raw = data_test[:, 0:2]\n",
    "y_test = data_test[:, 2]"
   ]
  },
  {
   "cell_type": "code",
   "execution_count": 8,
   "id": "abfd1927-ff67-4671-832a-775467167621",
   "metadata": {},
   "outputs": [
    {
     "data": {
      "text/plain": [
       "array([0., 1.])"
      ]
     },
     "execution_count": 8,
     "metadata": {},
     "output_type": "execute_result"
    }
   ],
   "source": [
    "np.unique(y_test)"
   ]
  },
  {
   "cell_type": "markdown",
   "id": "3789073b-c171-4e3e-b624-8fbdefbf7f5d",
   "metadata": {},
   "source": [
    "## Normalize data"
   ]
  },
  {
   "cell_type": "markdown",
   "id": "8bd790e0-eb07-4c3d-b661-c8dbb633bbe7",
   "metadata": {},
   "source": [
    "Will use StandardScaler, that results in a N(0,1) distribution."
   ]
  },
  {
   "cell_type": "code",
   "execution_count": 9,
   "id": "b4ac4589-aa25-47fb-a700-ee9f14f2d970",
   "metadata": {},
   "outputs": [],
   "source": [
    "from sklearn.preprocessing import StandardScaler"
   ]
  },
  {
   "cell_type": "markdown",
   "id": "575d8650-013c-4151-8cf4-3b94ed3cbf5d",
   "metadata": {},
   "source": [
    "Compute transformer parameters."
   ]
  },
  {
   "cell_type": "code",
   "execution_count": 10,
   "id": "1d0da1eb-f5c4-408f-ad0e-0b1aacc000b5",
   "metadata": {},
   "outputs": [],
   "source": [
    "scaler = StandardScaler().fit(X_train_raw)"
   ]
  },
  {
   "cell_type": "markdown",
   "id": "fea1eb36-a812-42f4-b524-f73f23db08d2",
   "metadata": {},
   "source": [
    "Apply transformation."
   ]
  },
  {
   "cell_type": "code",
   "execution_count": 11,
   "id": "5c0abf90-b766-4174-9863-01919b85eb7c",
   "metadata": {},
   "outputs": [],
   "source": [
    "X_train = scaler.transform(X_train_raw)"
   ]
  },
  {
   "cell_type": "markdown",
   "id": "b2d74635-9263-42e7-81d1-9ec428373fe4",
   "metadata": {},
   "source": [
    "Also, the same transformation to testing data."
   ]
  },
  {
   "cell_type": "code",
   "execution_count": 12,
   "id": "5420f0ff-7f98-4101-8f8a-87232a596177",
   "metadata": {},
   "outputs": [],
   "source": [
    "X_test = scaler.transform(X_test_raw)"
   ]
  },
  {
   "cell_type": "markdown",
   "id": "689a42fe-1e77-49f2-a777-9cca4b8b3548",
   "metadata": {},
   "source": [
    "Check-it. Mean must be (almost) zero, and standard deviation must be near the unit."
   ]
  },
  {
   "cell_type": "code",
   "execution_count": 13,
   "id": "434123ec-8a50-4fa4-8d08-bd513868e8a6",
   "metadata": {},
   "outputs": [
    {
     "data": {
      "text/plain": [
       "array([2.96681082e-16, 1.12219262e-15])"
      ]
     },
     "execution_count": 13,
     "metadata": {},
     "output_type": "execute_result"
    }
   ],
   "source": [
    "X_train.mean(axis=0)"
   ]
  },
  {
   "cell_type": "code",
   "execution_count": 14,
   "id": "a0706ad8-3af2-4b72-badc-3c77e865aa58",
   "metadata": {},
   "outputs": [
    {
     "data": {
      "text/plain": [
       "array([1., 1.])"
      ]
     },
     "execution_count": 14,
     "metadata": {},
     "output_type": "execute_result"
    }
   ],
   "source": [
    "X_train.std(axis=0)"
   ]
  },
  {
   "cell_type": "code",
   "execution_count": 15,
   "id": "6ececb0a-0184-4f11-9f52-55e75b296260",
   "metadata": {},
   "outputs": [
    {
     "data": {
      "text/plain": [
       "array([-5.10290468e-02,  8.18370561e-05])"
      ]
     },
     "execution_count": 15,
     "metadata": {},
     "output_type": "execute_result"
    }
   ],
   "source": [
    "X_test.mean(axis=0)"
   ]
  },
  {
   "cell_type": "code",
   "execution_count": 16,
   "id": "eeebac54-8f68-4eb3-be87-b4a276dfae4e",
   "metadata": {},
   "outputs": [
    {
     "data": {
      "text/plain": [
       "array([0.97118785, 0.98317379])"
      ]
     },
     "execution_count": 16,
     "metadata": {},
     "output_type": "execute_result"
    }
   ],
   "source": [
    "X_test.std(axis=0)"
   ]
  },
  {
   "cell_type": "markdown",
   "id": "449b617c-91e7-420d-8241-f3139696575e",
   "metadata": {},
   "source": [
    "## Create a Feed-Forward Neural Networ (FFNN) based classifier"
   ]
  },
  {
   "cell_type": "markdown",
   "id": "fbc64f55-a732-4295-86a6-a5f77e5f3eba",
   "metadata": {},
   "source": [
    "Will use Keras as top API"
   ]
  },
  {
   "cell_type": "code",
   "execution_count": 17,
   "id": "89b47dc2-0f33-4c54-9850-cbac211015a5",
   "metadata": {},
   "outputs": [],
   "source": [
    "from tensorflow import keras\n",
    "from tensorflow.keras import layers"
   ]
  },
  {
   "cell_type": "markdown",
   "id": "be3bccb6-5b45-46ed-9f3e-687cb447c23e",
   "metadata": {},
   "source": [
    "Define an auxiliary function to optimizer creation"
   ]
  },
  {
   "cell_type": "code",
   "execution_count": 18,
   "id": "ee068ff1-b90e-4ebf-9646-6ffa8bf02e84",
   "metadata": {},
   "outputs": [],
   "source": [
    "from tensorflow.keras.optimizers import RMSprop, SGD"
   ]
  },
  {
   "cell_type": "code",
   "execution_count": 19,
   "id": "dec1ac11-ce74-4406-899e-cfb522547e11",
   "metadata": {},
   "outputs": [],
   "source": [
    "def create_optimizer() -> object:\n",
    "    \n",
    "    # try Adam\n",
    "#    opt = \"adam\"\n",
    "    \n",
    "    # try SGD with Nesterov\n",
    "#    opt = SGD(learning_rate=0.01, momentum=0.9, nesterov=True)\n",
    "    \n",
    "    # try RMSprop\n",
    "    opt = RMSprop(learning_rate=0.01,  # inittial learning rate\n",
    "                  rho=0.8,             # discounting factor\n",
    "                  momentum=0.8         # also, adjusting velocity\n",
    "                 )\n",
    "    \n",
    "    return opt"
   ]
  },
  {
   "cell_type": "markdown",
   "id": "3d8fd7e3-1767-49c4-9416-fa58d6819b5b",
   "metadata": {},
   "source": [
    "Define an auxiliary function to encapsulate NN creation"
   ]
  },
  {
   "cell_type": "code",
   "execution_count": 20,
   "id": "8d48ad1c-79b8-4aae-b437-225ec4723ad2",
   "metadata": {},
   "outputs": [],
   "source": [
    "def create_ffnn_model(n_inputs: int, n_layers: list, activ_layers: list) -> object:\n",
    "    # n_inputs: \n",
    "    # n_layers:\n",
    "    # activ_layers:\n",
    "    \n",
    "    # Create an empty sequential NN\n",
    "    model = keras.Sequential()\n",
    "    \n",
    "    # Add the input\n",
    "    model.add(keras.Input(shape=(n_inputs,)))\n",
    "    \n",
    "    # Create hidden and last full connected (Dense class) layers\n",
    "    for i in range(len(n_layers)):\n",
    "        model.add(layers.Dense(n_layers[i], activation = activ_layers[i]))\n",
    "        \n",
    "    opt = create_optimizer()\n",
    "    \n",
    "    # Compile model to configure the learning process\n",
    "    model.compile(optimizer=opt, loss=\"binary_crossentropy\", metrics=['accuracy'])\n",
    "    \n",
    "    return model"
   ]
  },
  {
   "cell_type": "markdown",
   "id": "3ed4e90a-f55f-47b7-bdb4-290dbf71916e",
   "metadata": {},
   "source": [
    "Define another function to evaluate best instance from N ones"
   ]
  },
  {
   "cell_type": "code",
   "execution_count": 21,
   "id": "593243e2-caab-48dd-854e-2748e09ea689",
   "metadata": {},
   "outputs": [],
   "source": [
    "def best_fitted(n_instances: int, n_epochs: int, \n",
    "                X: np.ndarray, y: np.ndarray, \n",
    "                X_test: np.ndarray, y_test: np.ndarray, \n",
    "                n_inputs: int, n_layers: list, activ_layers: list) -> object:\n",
    "    \n",
    "    # Some hyper-params\n",
    "    bs = len(X)\n",
    "    validation = 0.2\n",
    "    \n",
    "    # List of models to fit\n",
    "    models = list()\n",
    "    histories = list()\n",
    "    evaluations = list()\n",
    "    \n",
    "    # Create and fit all the *n_instances* models\n",
    "    for i in range(n_instances):\n",
    "        model = create_ffnn_model(n_inputs, n_layers, activ_layers)\n",
    "        history = model.fit(X, y, verbose=0, batch_size=bs, epochs=n_epochs, validation_split=validation)\n",
    "        evaluation = model.evaluate(X_test, y_test, verbose=0)\n",
    "        \n",
    "        models.append(model)\n",
    "        histories.append(history.history)\n",
    "        evaluations.append(evaluation)\n",
    "    \n",
    "    # Select the best one\n",
    "    best_model = None\n",
    "    best_model_history = None\n",
    "    best_model_eval_score = None\n",
    "    for i in range(n_instances):\n",
    "        if best_model_eval_score is None or evaluations[i][1] > best_model_eval_score[1]:\n",
    "            best_model = models[i]\n",
    "            best_model_history = histories[i]\n",
    "            best_model_eval_score = evaluations[i]\n",
    "\n",
    "    return best_model, best_model_history, best_model_eval_score"
   ]
  },
  {
   "cell_type": "markdown",
   "id": "15da7da3-e908-4c3c-a50a-64bc9d7286ad",
   "metadata": {},
   "source": [
    "### Create and select best 321 FFNN"
   ]
  },
  {
   "cell_type": "code",
   "execution_count": 22,
   "id": "f7daa44c-529a-4ada-89ab-29f9a87b3856",
   "metadata": {},
   "outputs": [],
   "source": [
    "n_inputs = 2\n",
    "n_layers1 = [3, 2, 1]\n",
    "activ_layers = ['relu', 'relu', 'sigmoid']\n",
    "\n",
    "# who is who?\n",
    "_class_w1 = 1\n",
    "_class_w2 = 0\n",
    "\n",
    "# Classifying threshold\n",
    "# from FFNN output\n",
    "# It depends on output activation function image set\n",
    "#\n",
    "# Im[sigmoid] = (0,1)\n",
    "_output_class_threshold = 0.5\n",
    "\n",
    "# Im[tanh] = (-1, 1)\n",
    "#_output_class_threshold = 0"
   ]
  },
  {
   "cell_type": "code",
   "execution_count": 23,
   "id": "53b6cfee-1d05-43ba-95a3-d918bb6e0c2b",
   "metadata": {},
   "outputs": [],
   "source": [
    "n_instances = 3\n",
    "n_epochs = 200"
   ]
  },
  {
   "cell_type": "code",
   "execution_count": 24,
   "id": "6a7e0fd6-ed47-4eef-9a40-f117260f4157",
   "metadata": {},
   "outputs": [
    {
     "name": "stderr",
     "output_type": "stream",
     "text": [
      "2022-03-17 17:05:07.717461: I tensorflow/compiler/jit/xla_cpu_device.cc:41] Not creating XLA devices, tf_xla_enable_xla_devices not set\n",
      "2022-03-17 17:05:07.717820: I tensorflow/core/platform/cpu_feature_guard.cc:142] This TensorFlow binary is optimized with oneAPI Deep Neural Network Library (oneDNN) to use the following CPU instructions in performance-critical operations:  SSE4.1 SSE4.2 AVX AVX2 FMA\n",
      "To enable them in other operations, rebuild TensorFlow with the appropriate compiler flags.\n",
      "2022-03-17 17:05:07.719271: I tensorflow/core/common_runtime/process_util.cc:146] Creating new thread pool with default inter op setting: 2. Tune using inter_op_parallelism_threads for best performance.\n",
      "2022-03-17 17:05:07.813236: I tensorflow/compiler/mlir/mlir_graph_optimization_pass.cc:116] None of the MLIR optimization passes are enabled (registered 2)\n",
      "2022-03-17 17:05:07.831762: I tensorflow/core/platform/profile_utils/cpu_utils.cc:112] CPU Frequency: 2899885000 Hz\n"
     ]
    }
   ],
   "source": [
    "[model_321, history_321, eval_321] = \\\n",
    "    best_fitted(n_instances, n_epochs,\n",
    "                X_train, y_train, \n",
    "                X_test, y_test, \n",
    "                n_inputs, n_layers1, activ_layers)"
   ]
  },
  {
   "cell_type": "code",
   "execution_count": 25,
   "id": "d3ac239f-4fc3-4a02-a25e-848721c6444c",
   "metadata": {},
   "outputs": [
    {
     "name": "stdout",
     "output_type": "stream",
     "text": [
      "[0.16312679648399353, 0.925000011920929]\n"
     ]
    }
   ],
   "source": [
    "print(eval_321)"
   ]
  },
  {
   "cell_type": "markdown",
   "id": "ac7870d6-00d7-43db-8814-090b24f460bf",
   "metadata": {},
   "source": [
    "### Create and select best 541 FFNN"
   ]
  },
  {
   "cell_type": "code",
   "execution_count": 26,
   "id": "35dc33e2-29b5-4d09-94b0-44b1e228145a",
   "metadata": {},
   "outputs": [],
   "source": [
    "n_layers2 = [5, 4, 1]"
   ]
  },
  {
   "cell_type": "code",
   "execution_count": 27,
   "id": "342943a0-46d6-4db2-a8f2-e8a097d81ae9",
   "metadata": {},
   "outputs": [],
   "source": [
    "[model_541, history_541, eval_541] = \\\n",
    "    best_fitted(n_instances, n_epochs,\n",
    "                X_train, y_train, \n",
    "                X_test, y_test, \n",
    "                n_inputs, n_layers2, activ_layers)"
   ]
  },
  {
   "cell_type": "code",
   "execution_count": 28,
   "id": "d8e30bf7-1fe5-422b-baf0-54743bf426cb",
   "metadata": {},
   "outputs": [
    {
     "name": "stdout",
     "output_type": "stream",
     "text": [
      "[0.08858262002468109, 0.96875]\n"
     ]
    }
   ],
   "source": [
    "print(eval_541)"
   ]
  },
  {
   "cell_type": "markdown",
   "id": "51e96a4f-7580-404b-85e4-7e4b1fecc4e2",
   "metadata": {},
   "source": [
    "### Create and select best 761 FFNN"
   ]
  },
  {
   "cell_type": "code",
   "execution_count": 29,
   "id": "5d137957-88f2-4e8d-9ef4-743747cb74f0",
   "metadata": {},
   "outputs": [],
   "source": [
    "n_layers3 = [7, 6, 1]"
   ]
  },
  {
   "cell_type": "code",
   "execution_count": 30,
   "id": "0fbd7aec-3a33-4fff-8817-dbca70cb643d",
   "metadata": {},
   "outputs": [],
   "source": [
    "[model_761, history_761, eval_761] = \\\n",
    "    best_fitted(n_instances, n_epochs,\n",
    "                X_train, y_train, \n",
    "                X_test, y_test, \n",
    "                n_inputs, n_layers3, activ_layers)"
   ]
  },
  {
   "cell_type": "code",
   "execution_count": 31,
   "id": "e4c8afc3-0502-4eec-a5d3-cbdf4737fa52",
   "metadata": {},
   "outputs": [
    {
     "name": "stdout",
     "output_type": "stream",
     "text": [
      "[0.08810194581747055, 0.96875]\n"
     ]
    }
   ],
   "source": [
    "print(eval_761)"
   ]
  },
  {
   "cell_type": "markdown",
   "id": "c97dad1f-2038-43da-96fe-127915a9a019",
   "metadata": {
    "tags": [],
    "toc-hr-collapsed": true
   },
   "source": [
    "## Plots and reports"
   ]
  },
  {
   "cell_type": "code",
   "execution_count": 32,
   "id": "72d95769-f38b-4369-babf-3aeb17916ecd",
   "metadata": {},
   "outputs": [],
   "source": [
    "import matplotlib.pyplot as plt\n",
    "from sklearn.metrics import confusion_matrix"
   ]
  },
  {
   "cell_type": "code",
   "execution_count": 33,
   "id": "a08a07fe-28c1-4a1b-a887-c96084bfa800",
   "metadata": {},
   "outputs": [],
   "source": [
    "def plot_results(model, X, y):\n",
    "    \n",
    "    # w1 class: y==1\n",
    "    # w2 class: y==0\n",
    "    \n",
    "    w1i = np.array(np.where(y == _class_w1))\n",
    "    w2i = np.array(np.where(y == _class_w2))\n",
    "    \n",
    "    # plot samples\n",
    "\n",
    "    plt.figure()\n",
    "    plt.plot(X[w1i,0],X[w1i,1],'+r')\n",
    "    plt.plot(X[w2i,0],X[w2i,1],'+b')\n",
    "    plt.axis('equal')\n",
    "    plt.title('samples and decision boundary')\n",
    "    \n",
    "    # plot the decision boundary\n",
    "    \n",
    "    ax = plt.gca()\n",
    "    xlim = ax.get_xlim()\n",
    "    ylim = ax.get_ylim()\n",
    "    \n",
    "    # create grid to evaluate model\n",
    "    \n",
    "    xx = np.linspace(xlim[0], xlim[1], 30)\n",
    "    yy = np.linspace(ylim[0], ylim[1], 30)\n",
    "    YY, XX = np.meshgrid(yy, xx)\n",
    "    xy = np.vstack([XX.ravel(), YY.ravel()]).T\n",
    "    ZZ = model.predict(xy)\n",
    "    \n",
    "    # plot the boundary\n",
    "    \n",
    "    ax.contour(XX, YY, ZZ.reshape(XX.shape), colors='k', \n",
    "               levels=[_output_class_threshold], alpha=0.5, linestyles=['--'])\n",
    "    plt.show(block=False) # to force visualization\n",
    "    \n",
    "    # plot the classification map\n",
    "    \n",
    "    plt.figure()\n",
    "    plt.imshow(ZZ.reshape(XX.shape).T, origin='lower', \n",
    "               extent=(xlim[0], xlim[1], ylim[0], ylim[1]),\n",
    "               cmap='coolwarm', vmin=0, vmax=1)\n",
    "    plt.colorbar()\n",
    "    plt.plot(X[w1i,0],X[w1i,1],'+k') # black\n",
    "    plt.plot(X[w2i,0],X[w2i,1],'+w') # white\n",
    "    plt.xlabel('x1')\n",
    "    plt.ylabel('x2')\n",
    "    plt.axis('equal')\n",
    "    plt.title('classification map')\n",
    "    plt.show(block=False) # to force visualization"
   ]
  },
  {
   "cell_type": "code",
   "execution_count": 34,
   "id": "8d639db8-616f-4e0e-90db-a42f6673f794",
   "metadata": {},
   "outputs": [],
   "source": [
    "def plot_history(history: dict):\n",
    "    \n",
    "    # extract values list from dictionary\n",
    "    loss = history['loss']\n",
    "    val_loss = history['val_loss']\n",
    "    accuracy = history['accuracy']\n",
    "    val_accuracy = history['val_accuracy']\n",
    "    \n",
    "    # plot loss\n",
    "    plt.figure()\n",
    "    plt.plot(loss, label='train')\n",
    "    plt.plot(val_loss, label='validation')\n",
    "    plt.title('loss')\n",
    "    plt.legend()\n",
    "    plt.show(block=False)    \n",
    "    \n",
    "    # plot accuracy\n",
    "    plt.figure()\n",
    "    plt.plot(accuracy, label='train')\n",
    "    plt.plot(val_accuracy, label='validation')\n",
    "    plt.title('accuracy')\n",
    "    plt.legend()\n",
    "    plt.show(block=False)"
   ]
  },
  {
   "cell_type": "code",
   "execution_count": 35,
   "id": "5123fe16-5814-4bba-be3f-6211c7b566af",
   "metadata": {},
   "outputs": [],
   "source": [
    "def crisp_vector(vector: np.ndarray, threshold: float, class_list: list()) -> np.ndarray:\n",
    "    \n",
    "    # vector to crisp one\n",
    "    \n",
    "    hard = np.where(vector >= threshold, max(class_list), min(class_list))\n",
    "    \n",
    "    return hard"
   ]
  },
  {
   "cell_type": "code",
   "execution_count": 36,
   "id": "6139a1d6-4707-49e9-b77e-574e22bcebb3",
   "metadata": {},
   "outputs": [],
   "source": [
    "def pretty_print_cm(cm: np.ndarray):\n",
    "    line = '          '\n",
    "    for j in range(0, cm.shape[1]):\n",
    "        line = line + (' Predict {:1}'.format(j))\n",
    "    print(line)\n",
    "    for i, row in enumerate(cm):\n",
    "        line = 'Class {:1}: '.format(i) + ''.join(''.join(['{:10}'.format(element) for element in row]))\n",
    "        print(line)"
   ]
  },
  {
   "cell_type": "code",
   "execution_count": 37,
   "id": "92e9c08d-d337-4b8f-b6c3-d280810f721f",
   "metadata": {},
   "outputs": [],
   "source": [
    "def print_cm(model, X: np.ndarray, y: np.ndarray):\n",
    "\n",
    "    # compute the predictions\n",
    "    y_pred_ = model.predict(X)\n",
    "    \n",
    "    # binary prediction: {0, 1} values\n",
    "    y_pred = crisp_vector(y_pred_, _output_class_threshold, [_class_w1, _class_w2])\n",
    "    \n",
    "    # make class predictions with the model\n",
    "    cm = confusion_matrix(y, y_pred)\n",
    "    \n",
    "    pretty_print_cm(cm)"
   ]
  },
  {
   "cell_type": "code",
   "execution_count": 38,
   "id": "3db1c4a5-18eb-4184-909a-a8ca82d6abfb",
   "metadata": {},
   "outputs": [],
   "source": [
    "from sklearn.metrics import accuracy_score, precision_score, recall_score, f1_score"
   ]
  },
  {
   "cell_type": "code",
   "execution_count": 39,
   "id": "2be11509-1225-4c84-a4ba-91de819faae7",
   "metadata": {},
   "outputs": [],
   "source": [
    "def print_metrics(model, X: np.ndarray, y: np.ndarray):\n",
    "    \n",
    "    y_pred_ = model.predict(X)\n",
    "    y_pred = crisp_vector(y_pred_, _output_class_threshold, [_class_w1, _class_w2])\n",
    "    \n",
    "    # Accuracy = (tn + tp) / (tn + fp + tp + fn)\n",
    "    accuracy = accuracy_score(y_true=y, y_pred=y_pred)\n",
    "    \n",
    "    # Precision = tp / (tp + fp)\n",
    "    precision = precision_score(y_true=y, y_pred=y_pred)\n",
    "    \n",
    "    # Recall = tp / (tp + fn)\n",
    "    recall = recall_score(y_true=y, y_pred=y_pred)\n",
    "    \n",
    "    # F1 = 2 * (precision * recall) / (precision + recall)\n",
    "    f1 = f1_score(y_true=y, y_pred=y_pred)\n",
    "    \n",
    "    print(f\"Accuracy:  {accuracy:.4f}\")\n",
    "    print(f\"Precision: {precision:.4f}\")\n",
    "    print(f\"Recall:    {recall:.4f}\")\n",
    "    print(f\"F1:        {f1:.4f}\")"
   ]
  },
  {
   "cell_type": "markdown",
   "id": "4f874d97-2516-4112-b8f7-1d929ebef363",
   "metadata": {
    "tags": []
   },
   "source": [
    "### Plots and reports 321 FFNN"
   ]
  },
  {
   "cell_type": "markdown",
   "id": "b63f1e8a-ee87-4c63-ad2a-b7d51098dd36",
   "metadata": {},
   "source": [
    "#### Evolution of the loss function and the accuracy for the training and validation sets"
   ]
  },
  {
   "cell_type": "code",
   "execution_count": 40,
   "id": "81bcac04-4ec5-43cb-9963-7e85932e9a3b",
   "metadata": {},
   "outputs": [
    {
     "data": {
      "image/png": "[encoded data removed]",
      "text/plain": [
       "<Figure size 432x288 with 1 Axes>"
      ]
     },
     "metadata": {
      "needs_background": "light"
     },
     "output_type": "display_data"
    },
    {
     "data": {
      "image/png": "[encoded data removed]",
      "text/plain": [
       "<Figure size 432x288 with 1 Axes>"
      ]
     },
     "metadata": {
      "needs_background": "light"
     },
     "output_type": "display_data"
    }
   ],
   "source": [
    "plot_history(history_321)"
   ]
  },
  {
   "cell_type": "markdown",
   "id": "a1d8cf5f-68f2-4e02-8f70-0031957e5234",
   "metadata": {},
   "source": [
    "#### Classification map"
   ]
  },
  {
   "cell_type": "code",
   "execution_count": 41,
   "id": "31a716a1-584c-4402-9035-6f25f4f84763",
   "metadata": {},
   "outputs": [
    {
     "data": {
      "image/png": "[encoded data removed]",
      "text/plain": [
       "<Figure size 432x288 with 1 Axes>"
      ]
     },
     "metadata": {
      "needs_background": "light"
     },
     "output_type": "display_data"
    },
    {
     "data": {
      "image/png": "[encoded data removed]",
      "text/plain": [
       "<Figure size 432x288 with 2 Axes>"
      ]
     },
     "metadata": {
      "needs_background": "light"
     },
     "output_type": "display_data"
    }
   ],
   "source": [
    "plot_results(model_321, X_test, y_test)"
   ]
  },
  {
   "cell_type": "markdown",
   "id": "0b0aa700-6e95-4ffc-bdbb-d392717cb158",
   "metadata": {
    "tags": []
   },
   "source": [
    "#### Confusion matrices"
   ]
  },
  {
   "cell_type": "markdown",
   "id": "0b833eae-a7dc-45ba-b142-05e6a1d5f1bb",
   "metadata": {},
   "source": [
    "For *training set*"
   ]
  },
  {
   "cell_type": "code",
   "execution_count": 42,
   "id": "850190b8-e052-47dd-b0cb-7e89c166450b",
   "metadata": {},
   "outputs": [
    {
     "name": "stdout",
     "output_type": "stream",
     "text": [
      "           Predict 0 Predict 1\n",
      "Class 0:        313         7\n",
      "Class 1:         15       305\n"
     ]
    }
   ],
   "source": [
    "print_cm(model_321, X_train, y_train)"
   ]
  },
  {
   "cell_type": "markdown",
   "id": "4a88d7ce-e521-40d8-889e-2d583dec946c",
   "metadata": {},
   "source": [
    "For *test set*"
   ]
  },
  {
   "cell_type": "code",
   "execution_count": 43,
   "id": "aeb661c2-4221-4cb7-ab6d-602bd9501645",
   "metadata": {},
   "outputs": [
    {
     "name": "stdout",
     "output_type": "stream",
     "text": [
      "           Predict 0 Predict 1\n",
      "Class 0:         76         4\n",
      "Class 1:          8        72\n"
     ]
    }
   ],
   "source": [
    "print_cm(model_321, X_test, y_test)"
   ]
  },
  {
   "cell_type": "markdown",
   "id": "f6d9b265-7efa-4b61-843c-ff78dc9e09fe",
   "metadata": {},
   "source": [
    "#### Test accuracy, test precision, test recall and test f1-score"
   ]
  },
  {
   "cell_type": "code",
   "execution_count": 44,
   "id": "45a57a95-a26e-4bf2-8482-ce639652ba2e",
   "metadata": {},
   "outputs": [
    {
     "name": "stdout",
     "output_type": "stream",
     "text": [
      "Accuracy:  0.9250\n",
      "Precision: 0.9474\n",
      "Recall:    0.9000\n",
      "F1:        0.9231\n"
     ]
    }
   ],
   "source": [
    "print_metrics(model_321, X_test, y_test)"
   ]
  },
  {
   "cell_type": "markdown",
   "id": "8b04d2ab-3291-42b7-ab46-bf28632c5677",
   "metadata": {
    "tags": []
   },
   "source": [
    "### Plots and reports 541 FFNN"
   ]
  },
  {
   "cell_type": "markdown",
   "id": "18ce9fd4-40fe-4957-99ac-e692ce27bf1e",
   "metadata": {},
   "source": [
    "#### Evolution of the loss function and the accuracy for the training and validation sets"
   ]
  },
  {
   "cell_type": "code",
   "execution_count": 45,
   "id": "727e8c1b-4e70-4e98-a324-ef4f79913dcb",
   "metadata": {},
   "outputs": [
    {
     "data": {
      "image/png": "[encoded data removed]",
      "text/plain": [
       "<Figure size 432x288 with 1 Axes>"
      ]
     },
     "metadata": {
      "needs_background": "light"
     },
     "output_type": "display_data"
    },
    {
     "data": {
      "image/png": "[encoded data removed]",
      "text/plain": [
       "<Figure size 432x288 with 1 Axes>"
      ]
     },
     "metadata": {
      "needs_background": "light"
     },
     "output_type": "display_data"
    }
   ],
   "source": [
    "plot_history(history_541)"
   ]
  },
  {
   "cell_type": "markdown",
   "id": "3e967b15-b43c-46b8-add3-85d8531c275a",
   "metadata": {},
   "source": [
    "#### Classification map"
   ]
  },
  {
   "cell_type": "code",
   "execution_count": 46,
   "id": "bbbd4fbd-829d-469c-82b1-f8212477911f",
   "metadata": {},
   "outputs": [
    {
     "data": {
      "image/png": "[encoded data removed]",
      "text/plain": [
       "<Figure size 432x288 with 1 Axes>"
      ]
     },
     "metadata": {
      "needs_background": "light"
     },
     "output_type": "display_data"
    },
    {
     "data": {
      "image/png": "[encoded data removed]",
      "text/plain": [
       "<Figure size 432x288 with 2 Axes>"
      ]
     },
     "metadata": {
      "needs_background": "light"
     },
     "output_type": "display_data"
    }
   ],
   "source": [
    "plot_results(model_541, X_test, y_test)"
   ]
  },
  {
   "cell_type": "markdown",
   "id": "8d6abefd-707a-4c5d-92b3-f46298f55e30",
   "metadata": {
    "tags": []
   },
   "source": [
    "#### Confusion matrices"
   ]
  },
  {
   "cell_type": "markdown",
   "id": "48a3d4b2-2c08-4f8d-a997-d89bd7c8a770",
   "metadata": {},
   "source": [
    "For *training set*"
   ]
  },
  {
   "cell_type": "code",
   "execution_count": 47,
   "id": "61ef9233-d628-4936-8144-e88680f83274",
   "metadata": {},
   "outputs": [
    {
     "name": "stdout",
     "output_type": "stream",
     "text": [
      "           Predict 0 Predict 1\n",
      "Class 0:        314         6\n",
      "Class 1:         13       307\n"
     ]
    }
   ],
   "source": [
    "print_cm(model_541, X_train, y_train)"
   ]
  },
  {
   "cell_type": "markdown",
   "id": "b71d1ff2-af0c-484f-9296-a5a550782eda",
   "metadata": {},
   "source": [
    "For *test set*"
   ]
  },
  {
   "cell_type": "code",
   "execution_count": 48,
   "id": "6f5a4b4b-fd78-4752-a8ac-4cdb6a726825",
   "metadata": {},
   "outputs": [
    {
     "name": "stdout",
     "output_type": "stream",
     "text": [
      "           Predict 0 Predict 1\n",
      "Class 0:         79         1\n",
      "Class 1:          4        76\n"
     ]
    }
   ],
   "source": [
    "print_cm(model_541, X_test, y_test)"
   ]
  },
  {
   "cell_type": "markdown",
   "id": "d05d24b0-8929-47c7-b3cf-54f047201289",
   "metadata": {},
   "source": [
    "#### Test accuracy, test precision, test recall and test f1-score"
   ]
  },
  {
   "cell_type": "code",
   "execution_count": 49,
   "id": "251897e4-82fd-4608-a0b7-6319bb3cda58",
   "metadata": {},
   "outputs": [
    {
     "name": "stdout",
     "output_type": "stream",
     "text": [
      "Accuracy:  0.9688\n",
      "Precision: 0.9870\n",
      "Recall:    0.9500\n",
      "F1:        0.9682\n"
     ]
    }
   ],
   "source": [
    "print_metrics(model_541, X_test, y_test)"
   ]
  },
  {
   "cell_type": "markdown",
   "id": "619c93fb-2561-4445-8ae1-86b6f545a27a",
   "metadata": {
    "tags": []
   },
   "source": [
    "### Plots and reports 761 FFNN"
   ]
  },
  {
   "cell_type": "markdown",
   "id": "d5abef80-138a-403c-9479-1672b67d717c",
   "metadata": {},
   "source": [
    "#### Evolution of the loss function and the accuracy for the training and validation sets"
   ]
  },
  {
   "cell_type": "code",
   "execution_count": 50,
   "id": "0dd4405f-8555-4bd7-b883-6e007ed78ad0",
   "metadata": {},
   "outputs": [
    {
     "data": {
      "image/png": "[encoded data removed]",
      "text/plain": [
       "<Figure size 432x288 with 1 Axes>"
      ]
     },
     "metadata": {
      "needs_background": "light"
     },
     "output_type": "display_data"
    },
    {
     "data": {
      "image/png": "[encoded data removed]",
      "text/plain": [
       "<Figure size 432x288 with 1 Axes>"
      ]
     },
     "metadata": {
      "needs_background": "light"
     },
     "output_type": "display_data"
    }
   ],
   "source": [
    "plot_history(history_761)"
   ]
  },
  {
   "cell_type": "markdown",
   "id": "3d4d1a5c-2b1f-4f3a-87f9-5ba8174e36f6",
   "metadata": {},
   "source": [
    "#### Classification map"
   ]
  },
  {
   "cell_type": "code",
   "execution_count": 51,
   "id": "c0ade840-51b7-42a7-abb8-1ba41b2d1696",
   "metadata": {},
   "outputs": [
    {
     "data": {
      "image/png": "[encoded data removed]",
      "text/plain": [
       "<Figure size 432x288 with 1 Axes>"
      ]
     },
     "metadata": {
      "needs_background": "light"
     },
     "output_type": "display_data"
    },
    {
     "data": {
      "image/png": "[encoded data removed]",
      "text/plain": [
       "<Figure size 432x288 with 2 Axes>"
      ]
     },
     "metadata": {
      "needs_background": "light"
     },
     "output_type": "display_data"
    }
   ],
   "source": [
    "plot_results(model_761, X_test, y_test)"
   ]
  },
  {
   "cell_type": "markdown",
   "id": "8638d62b-f730-49ea-ae82-7fcbebaf36b6",
   "metadata": {
    "tags": []
   },
   "source": [
    "#### Confusion matrices"
   ]
  },
  {
   "cell_type": "markdown",
   "id": "8923ec1f-ab91-48f6-b17e-9de04e3852b9",
   "metadata": {},
   "source": [
    "For *training set*"
   ]
  },
  {
   "cell_type": "code",
   "execution_count": 52,
   "id": "d84f3e85-4250-442d-a1d0-c766ba4f5f48",
   "metadata": {},
   "outputs": [
    {
     "name": "stdout",
     "output_type": "stream",
     "text": [
      "           Predict 0 Predict 1\n",
      "Class 0:        316         4\n",
      "Class 1:         10       310\n"
     ]
    }
   ],
   "source": [
    "print_cm(model_761, X_train, y_train)"
   ]
  },
  {
   "cell_type": "markdown",
   "id": "1b6022bc-71d4-4cfc-947d-6197dffef40c",
   "metadata": {},
   "source": [
    "For *test set*"
   ]
  },
  {
   "cell_type": "code",
   "execution_count": 53,
   "id": "a09cb06a-c702-4e0b-8341-3868d61341a2",
   "metadata": {},
   "outputs": [
    {
     "name": "stdout",
     "output_type": "stream",
     "text": [
      "           Predict 0 Predict 1\n",
      "Class 0:         78         2\n",
      "Class 1:          3        77\n"
     ]
    }
   ],
   "source": [
    "print_cm(model_761, X_test, y_test)"
   ]
  },
  {
   "cell_type": "markdown",
   "id": "8ab575b5-905a-4fdc-acd4-038d30fd3da0",
   "metadata": {},
   "source": [
    "#### Test accuracy, test precision, test recall and test f1-score"
   ]
  },
  {
   "cell_type": "code",
   "execution_count": 54,
   "id": "0bff5b90-bfbc-455d-b874-3f889ee8e8c5",
   "metadata": {},
   "outputs": [
    {
     "name": "stdout",
     "output_type": "stream",
     "text": [
      "Accuracy:  0.9688\n",
      "Precision: 0.9747\n",
      "Recall:    0.9625\n",
      "F1:        0.9686\n"
     ]
    }
   ],
   "source": [
    "print_metrics(model_761, X_test, y_test)"
   ]
  },
  {
   "cell_type": "markdown",
   "id": "dd8dd38f-4425-40ce-a59a-1f97e7749d6f",
   "metadata": {
    "tags": []
   },
   "source": [
    "## Comentaris i conclusions"
   ]
  },
  {
   "cell_type": "markdown",
   "id": "9b5afccb-34ba-4b67-b0eb-c7ecaf320d8d",
   "metadata": {},
   "source": [
    "Inicialment vàrem provar de fer servir l'optimitzador *Adam*, \n",
    "però atès que aquest optimitzador requeria d'un número relativament elevat \n",
    "d'èpoques per a assolir bons resultats (más de 1000), \n",
    "hem optat per provar altres optimitzadors \n",
    "com l'optimitzador *SGD* i l'*RMSprop*.\n",
    "\n",
    "Aquest darrer optimitzador ha obtingut els millors resultats \n",
    "de convergència, essent el que de tots tres ha necessitat menys èpoques\n",
    "(menys de 200, en front a les més de 500 de SGD i les més de 1500 de *Adam*.\n",
    "\n",
    "Com a funcions s'activació i per tal de poder comparar els diferents \n",
    "algorismes d'optimització, sempre hem fet servir \n",
    "*ReLu* a les dues capes ocultes i una funció de tipus *sigmoide* a la sortida."
   ]
  },
  {
   "cell_type": "markdown",
   "id": "bbb34d95-28ad-4031-b28c-3f2584b48a61",
   "metadata": {},
   "source": [
    "Moltes de gràcies per tot."
   ]
  }
 ],
 "metadata": {
  "kernelspec": {
   "display_name": "musi-ic2",
   "language": "python",
   "name": "musi-ic2"
  },
  "language_info": {
   "codemirror_mode": {
    "name": "ipython",
    "version": 3
   },
   "file_extension": ".py",
   "mimetype": "text/x-python",
   "name": "python",
   "nbconvert_exporter": "python",
   "pygments_lexer": "ipython3",
   "version": "3.7.11"
  }
 },
 "nbformat": 4,
 "nbformat_minor": 5
}
